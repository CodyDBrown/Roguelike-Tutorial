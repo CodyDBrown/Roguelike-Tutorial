{
 "cells": [
  {
   "cell_type": "markdown",
   "metadata": {},
   "source": [
    "This is just an edditing note book. I'll be running all of the code through the terminal but I want to use a notebook for commentating and edditing codes"
   ]
  },
  {
   "cell_type": "code",
   "execution_count": 13,
   "metadata": {},
   "outputs": [
    {
     "name": "stdout",
     "output_type": "stream",
     "text": [
      "Overwriting engine.py\n"
     ]
    }
   ],
   "source": [
    "%%writefile engine.py\n",
    "import libtcodpy as libtcod\n",
    "from input_handlers import handle_keys\n",
    "\n",
    "def main():\n",
    "    screen_width = 80\n",
    "    screen_height = 50\n",
    "    \n",
    "    #Where do we want to start the player\n",
    "    player_x = int(screen_width/2)\n",
    "    player_y = int(screen_height/2)\n",
    "    \n",
    "    libtcod.console_set_custom_font('arial10x10.png', libtcod.FONT_TYPE_GREYSCALE | libtcod.FONT_LAYOUT_TCOD)\n",
    "    \n",
    "    libtcod.console_init_root(screen_width, screen_height,\n",
    "                              'libtcod tutorial revised', False)\n",
    "    \n",
    "    con = libtcod.console_new(screen_width, screen_height)\n",
    "    \n",
    "    key = libtcod.Key()\n",
    "    mouse = libtcod.Mouse() #Not using the mouse yet but we might later so lets just add it on now\n",
    "    \n",
    "    while not libtcod.console_is_window_closed():\n",
    "        \n",
    "        libtcod.sys_check_for_event(libtcod.EVENT_KEY_PRESS, key, mouse)\n",
    "        \n",
    "        libtcod.console_set_default_foreground(con, libtcod.white)\n",
    "        libtcod.console_put_char(con, player_x, player_y, '@', libtcod.BKGND_NONE)\n",
    "        libtcod.console_blit(con, 0, 0, screen_width, screen_height, 0, 0, 0)\n",
    "        \n",
    "        \n",
    "        \"\"\"This is more or less a print command. Makes everything\n",
    "        show up on the screen.\"\"\"\n",
    "        libtcod.console_flush()\n",
    "        \n",
    "        libtcod.console_put_char(con, player_x, player_y, ' ', libtcod.BKGND_NONE)\n",
    "        \n",
    "        action = handle_keys(key)\n",
    "        \n",
    "        move = action.get('move')\n",
    "        exit = action.get('exit')\n",
    "        fullscreen = action.get('fullscreen')\n",
    "        \n",
    "        if move:\n",
    "            dx,dy = move\n",
    "            player_x += dx\n",
    "            player_y += dy\n",
    "\n",
    "        if exit:\n",
    "            return True\n",
    "        if fullscreen:\n",
    "            libtcod.console_set_fullscreen(not libtcod.console_is_fullscreen)\n",
    "\n",
    "\n",
    "if __name__ == '__main__':\n",
    "     main()"
   ]
  },
  {
   "cell_type": "code",
   "execution_count": 8,
   "metadata": {},
   "outputs": [
    {
     "name": "stdout",
     "output_type": "stream",
     "text": [
      "Writing input_handlers.py\n"
     ]
    }
   ],
   "source": [
    "%%writefile input_handlers.py\n",
    "import libtcodpy as libtcod\n",
    "\n",
    "def handle_keys(key):\n",
    "    #Movement keys\n",
    "    if key.vk == libtcod.KEY_UP:\n",
    "        return {'move': (0,-1)}\n",
    "    elif key.vk == libtcod.KEY_DOWN:\n",
    "        return {'move': (0,1)}\n",
    "    elif key.vk == libtcod.KEY_LEFT:\n",
    "        return {'move': (-1,0)}\n",
    "    elif key.vk == libtcod.KEY_RIGHT:\n",
    "        return {'move': (1,0)}\n",
    "    \n",
    "    #Don't use this yet. There were some problems with going full \n",
    "    #screen that I haven't worked out yet.\n",
    "    if key.vk == libtcod.KEY_ENTER and key.lalt:\n",
    "        #Hitting Alt+Enter toggles full screen\n",
    "        return {'fullscreen': True}\n",
    "    \n",
    "    elif key.vk == libtcod.KEY_ESCAPE:\n",
    "        #Exit the game\n",
    "        return {'exit': True}\n",
    "    \n",
    "    #If nothing what hit\n",
    "    return {}"
   ]
  },
  {
   "cell_type": "code",
   "execution_count": 9,
   "metadata": {},
   "outputs": [
    {
     "name": "stdout",
     "output_type": "stream",
     "text": [
      "\u001b[0m\u001b[01;34m20161228-libtcod-1.6.2\u001b[0m/  engine.py          Untitled.ipynb\r\n",
      "\u001b[01;35marial10x10.png\u001b[0m           input_handlers.py\r\n"
     ]
    }
   ],
   "source": [
    "%ls"
   ]
  },
  {
   "cell_type": "code",
   "execution_count": null,
   "metadata": {},
   "outputs": [],
   "source": []
  }
 ],
 "metadata": {
  "kernelspec": {
   "display_name": "Python 3",
   "language": "python",
   "name": "python3"
  },
  "language_info": {
   "codemirror_mode": {
    "name": "ipython",
    "version": 3
   },
   "file_extension": ".py",
   "mimetype": "text/x-python",
   "name": "python",
   "nbconvert_exporter": "python",
   "pygments_lexer": "ipython3",
   "version": "3.6.5"
  }
 },
 "nbformat": 4,
 "nbformat_minor": 2
}
