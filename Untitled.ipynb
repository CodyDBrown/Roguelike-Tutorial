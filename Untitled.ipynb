{
 "cells": [
  {
   "cell_type": "markdown",
   "metadata": {},
   "source": [
    "This is just an edditing note book. I'll be running all of the code through the terminal but I want to use a notebook for commentating and edditing codes"
   ]
  },
  {
   "cell_type": "code",
   "execution_count": 86,
   "metadata": {},
   "outputs": [
    {
     "name": "stdout",
     "output_type": "stream",
     "text": [
      "/home/cody/RL\n"
     ]
    }
   ],
   "source": [
    "%cd ~/RL"
   ]
  },
  {
   "cell_type": "code",
   "execution_count": 87,
   "metadata": {},
   "outputs": [
    {
     "name": "stdout",
     "output_type": "stream",
     "text": [
      "Overwriting engine.py\n"
     ]
    }
   ],
   "source": [
    "%%writefile engine.py\n",
    "import libtcodpy as libtcod\n",
    "from entity import Entity\n",
    "from input_handlers import handle_keys\n",
    "from render_functions import render_all, clear_all\n",
    "from map_objects.game_map import GameMap\n",
    "\n",
    "def main():\n",
    "    screen_width = 80\n",
    "    screen_height = 50\n",
    "\n",
    "    # Size of the map\n",
    "    map_width = 80\n",
    "    map_height = 45\n",
    "\n",
    "    # Some variables for the rooms in the map\n",
    "    room_max_size = 10\n",
    "    room_min_size = 6\n",
    "    max_rooms = 30\n",
    "\n",
    "    colors = {\n",
    "        'dark_wall': libtcod.Color(0, 0, 100),\n",
    "        'dark_ground': libtcod.Color(50, 50, 150)\n",
    "    }\n",
    "\n",
    "    player = Entity(int(screen_width / 2), int(screen_height / 2), '@', libtcod.white)\n",
    "    npc = Entity(int(screen_width / 2 - 5), int(screen_height / 2), '@', libtcod.yellow)\n",
    "    entities = [npc, player]\n",
    "\n",
    "    libtcod.console_set_custom_font('arial10x10.png', libtcod.FONT_TYPE_GREYSCALE | libtcod.FONT_LAYOUT_TCOD)\n",
    "\n",
    "    libtcod.console_init_root(screen_width, screen_height, 'libtcod tutorial revised', False)\n",
    "\n",
    "    con = libtcod.console_new(screen_width, screen_height)\n",
    "\n",
    "    game_map = GameMap(map_width, map_height)\n",
    "    game_map.make_map(max_rooms, room_min_size, room_max_size, map_width, map_height, player)\n",
    "\n",
    "    key = libtcod.Key()\n",
    "    mouse = libtcod.Mouse()\n",
    "\n",
    "    while not libtcod.console_is_window_closed():\n",
    "        libtcod.sys_check_for_event(libtcod.EVENT_KEY_PRESS, key, mouse)\n",
    "\n",
    "        render_all(con, entities, game_map, screen_width, screen_height, colors)\n",
    "\n",
    "        libtcod.console_flush()\n",
    "\n",
    "        clear_all(con, entities)\n",
    "\n",
    "        action = handle_keys(key)\n",
    "\n",
    "        move = action.get('move')\n",
    "        exit = action.get('exit')\n",
    "        fullscreen = action.get('fullscreen')\n",
    "\n",
    "        if move:\n",
    "            dx, dy = move\n",
    "\n",
    "            if not game_map.is_blocked(player.x + dx, player.y + dy):\n",
    "                player.move(dx, dy)\n",
    "\n",
    "        if exit:\n",
    "            return True\n",
    "\n",
    "        if fullscreen:\n",
    "            libtcod.console_set_fullscreen(not libtcod.console_is_fullscreen())\n",
    "\n",
    "\n",
    "if __name__ == '__main__':\n",
    "     main()"
   ]
  },
  {
   "cell_type": "code",
   "execution_count": 8,
   "metadata": {},
   "outputs": [
    {
     "name": "stdout",
     "output_type": "stream",
     "text": [
      "Writing input_handlers.py\n"
     ]
    }
   ],
   "source": [
    "%%writefile input_handlers.py\n",
    "import libtcodpy as libtcod\n",
    "\n",
    "def handle_keys(key):\n",
    "    #Movement keys\n",
    "    if key.vk == libtcod.KEY_UP:\n",
    "        return {'move': (0,-1)}\n",
    "    elif key.vk == libtcod.KEY_DOWN:\n",
    "        return {'move': (0,1)}\n",
    "    elif key.vk == libtcod.KEY_LEFT:\n",
    "        return {'move': (-1,0)}\n",
    "    elif key.vk == libtcod.KEY_RIGHT:\n",
    "        return {'move': (1,0)}\n",
    "    \n",
    "    #Don't use this yet. There were some problems with going full \n",
    "    #screen that I haven't worked out yet.\n",
    "    if key.vk == libtcod.KEY_ENTER and key.lalt:\n",
    "        #Hitting Alt+Enter toggles full screen\n",
    "        return {'fullscreen': True}\n",
    "    \n",
    "    elif key.vk == libtcod.KEY_ESCAPE:\n",
    "        #Exit the game\n",
    "        return {'exit': True}\n",
    "    \n",
    "    #If nothing what hit\n",
    "    return {}"
   ]
  },
  {
   "cell_type": "code",
   "execution_count": 45,
   "metadata": {},
   "outputs": [
    {
     "name": "stdout",
     "output_type": "stream",
     "text": [
      "Overwriting entity.py\n"
     ]
    }
   ],
   "source": [
    "%%writefile entity.py\n",
    "class Entity:\n",
    "    \"\"\"\n",
    "    A generic object to represent players, enemies, items, etc.\n",
    "    \"\"\"\n",
    "    def __init__(self, x, y, char, color):\n",
    "        self.x = x\n",
    "        self.y = y\n",
    "        self.char = char\n",
    "        self.color = color\n",
    "\n",
    "    def move(self, dx, dy):\n",
    "        # Move the entity by a given amount\n",
    "        self.x += dx\n",
    "        self.y += dy"
   ]
  },
  {
   "cell_type": "code",
   "execution_count": 3,
   "metadata": {},
   "outputs": [
    {
     "name": "stdout",
     "output_type": "stream",
     "text": [
      "Overwriting render_functions.py\n"
     ]
    }
   ],
   "source": [
    "%%writefile render_functions.py\n",
    "\n",
    "import libtcodpy as libtcod\n",
    "\n",
    "def render_all(con, entities,game_map,\n",
    "               screen_width, screen_height,colors):\n",
    "    #Draw all the tiles in the game map\n",
    "    for y in range(game_map.height):\n",
    "        for x in range(game_map.width):\n",
    "            wall = game_map.tiles[x][y].block_sight\n",
    "            \n",
    "            if wall:\n",
    "                libtcod.console_set_char_background(con,x,y, colors.get(\"dark_wall\"), libtcod.BKGND_SET)\n",
    "            else:\n",
    "                libtcod.console_set_char_background(con, x,y, colors.get('dark_ground'), libtcod.BKGND_SET)\n",
    "                \n",
    "    \n",
    "    #Draw all entities in the list\n",
    "    for entity in entities:\n",
    "        draw_entity(con,entity)\n",
    "    \n",
    "    libtcod.console_blit(con, 0,0, screen_width, screen_height, 0,0,0)\n",
    "    \n",
    "def clear_all(con, entities):\n",
    "    for entity in entities:\n",
    "        clear_entity(con, entity)\n",
    "\n",
    "def draw_entity(con, entity):\n",
    "    libtcod.console_set_default_foreground(con, entity.color)\n",
    "    libtcod.console_put_char(con, entity.x, entity.y, entity.char,\n",
    "                            libtcod.BKGND_NONE)\n",
    "    \n",
    "def clear_entity(con, entity):\n",
    "    #Erase the character that represents this object\n",
    "        libtcod.console_put_char(con, entity.x, entity.y, ' ', libtcod.BKGND_NONE)"
   ]
  },
  {
   "cell_type": "code",
   "execution_count": 38,
   "metadata": {},
   "outputs": [
    {
     "data": {
      "text/plain": [
       "'/home/cody/RL'"
      ]
     },
     "execution_count": 38,
     "metadata": {},
     "output_type": "execute_result"
    }
   ],
   "source": [
    "%pwd"
   ]
  },
  {
   "cell_type": "code",
   "execution_count": 45,
   "metadata": {},
   "outputs": [
    {
     "name": "stdout",
     "output_type": "stream",
     "text": [
      "/home/cody/RL/map_objects\n"
     ]
    }
   ],
   "source": [
    "%cd ~/RL/map_objects/"
   ]
  },
  {
   "cell_type": "code",
   "execution_count": 54,
   "metadata": {},
   "outputs": [
    {
     "name": "stdout",
     "output_type": "stream",
     "text": [
      "Writing tile.py\n"
     ]
    }
   ],
   "source": [
    "%%writefile tile.py\n",
    "class Tile:\n",
    "    \"\"\"\n",
    "    A tile on a map. It may or may not be blocked, and may or may not block sight.\n",
    "    \"\"\"\n",
    "    \n",
    "    def __init__(self, blocked, block_sight = None):\n",
    "        self.blocked = blocked\n",
    "        \n",
    "        #We want our default to be if it blocks movement it blocks sight,\n",
    "        if block_sight is None:\n",
    "            block_sight = blocked\n",
    "            \n",
    "        self.block_sight = block_sight"
   ]
  },
  {
   "cell_type": "code",
   "execution_count": 81,
   "metadata": {},
   "outputs": [
    {
     "name": "stdout",
     "output_type": "stream",
     "text": [
      "/home/cody/RL/map_objects\n"
     ]
    }
   ],
   "source": [
    "%cd map_objects"
   ]
  },
  {
   "cell_type": "code",
   "execution_count": 85,
   "metadata": {},
   "outputs": [
    {
     "name": "stdout",
     "output_type": "stream",
     "text": [
      "Overwriting game_map.py\n"
     ]
    }
   ],
   "source": [
    "%%writefile game_map.py\n",
    "from random import randint\n",
    "\n",
    "from map_objects.rectangle import Rect\n",
    "from map_objects.tile import Tile\n",
    "\n",
    "\n",
    "class GameMap:\n",
    "    def __init__(self, width, height):\n",
    "        self.width = width\n",
    "        self.height = height\n",
    "        self.tiles = self.initialize_tiles()\n",
    "\n",
    "    def initialize_tiles(self):\n",
    "        tiles = [[Tile(True) for y in range(self.height)] for x in range(self.width)]\n",
    "\n",
    "        return tiles\n",
    "\n",
    "    def make_map(self, max_rooms, room_min_size, room_max_size, map_width, map_height, player):\n",
    "        rooms = []\n",
    "        num_rooms = 0\n",
    "\n",
    "        for r in range(max_rooms):\n",
    "            # random width and height\n",
    "            w = randint(room_min_size, room_max_size)\n",
    "            h = randint(room_min_size, room_max_size)\n",
    "            # random position without going out of the boundaries of the map\n",
    "            x = randint(0, map_width - w - 1)\n",
    "            y = randint(0, map_height - h - 1)\n",
    "\n",
    "            # \"Rect\" class makes rectangles easier to work with\n",
    "            new_room = Rect(x, y, w, h)\n",
    "\n",
    "            # run through the other rooms and see if they intersect with this one\n",
    "            for other_room in rooms:\n",
    "                if new_room.intersect(other_room):\n",
    "                    break\n",
    "            else:\n",
    "                # this means there are no intersections, so this room is valid\n",
    "\n",
    "                # \"paint\" it to the map's tiles\n",
    "                self.create_room(new_room)\n",
    "\n",
    "                # center coordinates of new room, will be useful later\n",
    "                (new_x, new_y) = new_room.center()\n",
    "\n",
    "                if num_rooms == 0:\n",
    "                    # this is the first room, where the player starts at\n",
    "                    player.x = new_x\n",
    "                    player.y = new_y\n",
    "                else:\n",
    "                    # all rooms after the first:\n",
    "                    # connect it to the previous room with a tunnel\n",
    "\n",
    "                    # center coordinates of previous room\n",
    "                    (prev_x, prev_y) = rooms[num_rooms - 1].center()\n",
    "\n",
    "                    # flip a coin (random number that is either 0 or 1)\n",
    "                    if randint(0, 1) == 1:\n",
    "                        # first move horizontally, then vertically\n",
    "                        self.create_h_tunnel(prev_x, new_x, prev_y)\n",
    "                        self.create_v_tunnel(prev_y, new_y, new_x)\n",
    "                    else:\n",
    "                        # first move vertically, then horizontally\n",
    "                        self.create_v_tunnel(prev_y, new_y, prev_x)\n",
    "                        self.create_h_tunnel(prev_x, new_x, new_y)\n",
    "\n",
    "                        # finally, append the new room to the list\n",
    "                rooms.append(new_room)\n",
    "                num_rooms += 1\n",
    "\n",
    "    def create_room(self, room):\n",
    "        # go through the tiles in the rectangle and make them passable\n",
    "        for x in range(room.x1 + 1, room.x2):\n",
    "            for y in range(room.y1 + 1, room.y2):\n",
    "                self.tiles[x][y].blocked = False\n",
    "                self.tiles[x][y].block_sight = False\n",
    "\n",
    "    def create_h_tunnel(self, x1, x2, y):\n",
    "        for x in range(min(x1, x2), max(x1, x2) + 1):\n",
    "            self.tiles[x][y].blocked = False\n",
    "            self.tiles[x][y].block_sight = False\n",
    "\n",
    "    def create_v_tunnel(self, y1, y2, x):\n",
    "        for y in range(min(y1, y2), max(y1, y2) + 1):\n",
    "            self.tiles[x][y].blocked = False\n",
    "            self.tiles[x][y].block_sight = False\n",
    "\n",
    "    def is_blocked(self, x, y):\n",
    "        if self.tiles[x][y].blocked:\n",
    "            return True\n",
    "\n",
    "        return False"
   ]
  },
  {
   "cell_type": "code",
   "execution_count": 10,
   "metadata": {},
   "outputs": [
    {
     "name": "stdout",
     "output_type": "stream",
     "text": [
      "\u001b[0m\u001b[01;34m20161228-libtcod-1.6.2\u001b[0m/  engine.py    input_handlers.py  render_functions.py\r\n",
      "\u001b[01;35marial10x10.png\u001b[0m           entity.py    \u001b[01;34mmap_objects\u001b[0m/       Untitled.ipynb\r\n",
      "engine2.py               game_map.py  \u001b[01;34m__pycache__\u001b[0m/\r\n"
     ]
    }
   ],
   "source": [
    "%ls"
   ]
  },
  {
   "cell_type": "code",
   "execution_count": 61,
   "metadata": {},
   "outputs": [
    {
     "name": "stdout",
     "output_type": "stream",
     "text": [
      "/home/cody/RL/map_objects\n",
      "engine.py  game_map.py  __init__.py  \u001b[0m\u001b[01;34m__pycache__\u001b[0m/  rectangle.py  tile.py\r\n"
     ]
    }
   ],
   "source": [
    "%cd ~/RL/map_objects/\n",
    "%ls"
   ]
  },
  {
   "cell_type": "code",
   "execution_count": 62,
   "metadata": {},
   "outputs": [
    {
     "name": "stdout",
     "output_type": "stream",
     "text": [
      "Overwriting rectangle.py\n"
     ]
    }
   ],
   "source": [
    "%%writefile rectangle.py\n",
    "class Rect:\n",
    "    def __init__(self,x, y, w ,h):\n",
    "        self.x1 = x\n",
    "        self.y1 = y\n",
    "        self.x2 = x + w\n",
    "        self.y2 = y + h\n",
    "        \n",
    "    def center(self):\n",
    "        center_x = int((self.x1 + self.x2) / 2)\n",
    "        center_y = int((self.y1 + self.y2) / 2)\n",
    "        return center_x, center_y\n",
    "    def intersect(self, other):\n",
    "        #Return True if this rectangles intersects with another rectange\n",
    "        return (self.x1 <= other.x2 and self.x2 >= other.x1 and\n",
    "                self.y1 <= other.y2 and self.y2 >= other.y1)"
   ]
  },
  {
   "cell_type": "code",
   "execution_count": null,
   "metadata": {},
   "outputs": [],
   "source": []
  }
 ],
 "metadata": {
  "kernelspec": {
   "display_name": "Python 3",
   "language": "python",
   "name": "python3"
  },
  "language_info": {
   "codemirror_mode": {
    "name": "ipython",
    "version": 3
   },
   "file_extension": ".py",
   "mimetype": "text/x-python",
   "name": "python",
   "nbconvert_exporter": "python",
   "pygments_lexer": "ipython3",
   "version": "3.6.5"
  }
 },
 "nbformat": 4,
 "nbformat_minor": 2
}
